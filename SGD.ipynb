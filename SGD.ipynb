{
  "nbformat": 4,
  "nbformat_minor": 0,
  "metadata": {
    "colab": {
      "provenance": [],
      "authorship_tag": "ABX9TyMEe5OYpyWCsUBXBzI/Lo5a",
      "include_colab_link": true
    },
    "kernelspec": {
      "name": "python3",
      "display_name": "Python 3"
    },
    "language_info": {
      "name": "python"
    }
  },
  "cells": [
    {
      "cell_type": "markdown",
      "metadata": {
        "id": "view-in-github",
        "colab_type": "text"
      },
      "source": [
        "<a href=\"https://colab.research.google.com/github/MariamKhan98/mariamkhan98/blob/main/SGD.ipynb\" target=\"_parent\"><img src=\"https://colab.research.google.com/assets/colab-badge.svg\" alt=\"Open In Colab\"/></a>"
      ]
    },
    {
      "cell_type": "code",
      "execution_count": 2,
      "metadata": {
        "id": "Nt7o5OeUHLsc"
      },
      "outputs": [],
      "source": [
        "import numpy as np\n",
        "import pandas as pd\n",
        "import matplotlib.pyplot as plt\n",
        "import seaborn as sns\n",
        "from sklearn import datasets\n",
        "from sklearn.model_selection import train_test_split\n",
        "from sklearn.linear_model import LinearRegression\n",
        "from sklearn.metrics import mean_squared_error, r2_score"
      ]
    },
    {
      "cell_type": "code",
      "source": [
        "bc = datasets.load_breast_cancer()\n",
        "X = bc.data\n",
        "y = bc.target\n"
      ],
      "metadata": {
        "id": "4W-JoW5EIOjn"
      },
      "execution_count": 4,
      "outputs": []
    },
    {
      "cell_type": "code",
      "source": [
        "X_train, X_test, Y_train, Y_test = train_test_split(X, y, test_size=0.3, random_state=42, stratify=y)"
      ],
      "metadata": {
        "id": "apGeVMZ8IxrT"
      },
      "execution_count": 5,
      "outputs": []
    },
    {
      "cell_type": "code",
      "source": [
        "class CustomPerceptron(object):\n",
        "    def __init__(self, n_iterations=100, random_state=1, learning_rate=0.01):\n",
        "        self.n_iterations = n_iterations\n",
        "        self.random_state = random_state\n",
        "        self.learning_rate = learning_rate\n",
        "\n",
        "    def fit(self, X, y):\n",
        "        rgen = np.random.RandomState(self.random_state)\n",
        "        self.coef_ = rgen.normal(loc=0.0, scale=0.01, size=1+X.shape[1])\n",
        "        for _ in range(self.n_iterations):\n",
        "            for xi, expected_value in zip(X, y):\n",
        "                predicted_value = self.predict(xi)\n",
        "                self.coef_[1:] += self.learning_rate * (expected_value - predicted_value) * xi\n",
        "                self.coef_[0] += self.learning_rate * (expected_value - predicted_value) *1\n",
        "\n",
        "    def activation(self, X):\n",
        "        return np.dot(X, self.coef_[1:]) + self.coef_[0]\n",
        "\n",
        "    def predict(self, X):\n",
        "        output = self.activation(X)\n",
        "        return np.where(output >= 0.0, 1, 0)\n",
        "\n",
        "    def score(self, X, y):\n",
        "      misclassified_data_count = 0\n",
        "      for xi, target in zip(X, y):\n",
        "        output = self.predict(xi)\n",
        "        if (target != output):\n",
        "          misclassified_data_count += 1\n",
        "        total_data_count = len(X)\n",
        "        self.score_ = (total_data_count - misclassified_data_count) / total_data_count\n",
        "        return self.score_\n"
      ],
      "metadata": {
        "id": "ABwW4bYeJGiy"
      },
      "execution_count": 6,
      "outputs": []
    },
    {
      "cell_type": "code",
      "source": [
        "n_iterations = 100\n",
        "random_state = 1\n",
        "learning_rate = 0.01\n",
        "prcptrn = CustomPerceptron(n_iterations=n_iterations, random_state=random_state, learning_rate=learning_rate)\n",
        "prcptrn.fit(X_train, Y_train)\n"
      ],
      "metadata": {
        "id": "1q6gXkr6MbFi"
      },
      "execution_count": 7,
      "outputs": []
    },
    {
      "cell_type": "code",
      "source": [
        "print(prcptrn.score(X_test, Y_test))\n",
        "prcptrn.score(X_train, Y_train)"
      ],
      "metadata": {
        "colab": {
          "base_uri": "https://localhost:8080/"
        },
        "id": "mIufxsm0Mpqh",
        "outputId": "0ec3bd29-dacf-4a23-8ddd-6259fdbce7dc"
      },
      "execution_count": 9,
      "outputs": [
        {
          "output_type": "stream",
          "name": "stdout",
          "text": [
            "0.9941520467836257\n"
          ]
        },
        {
          "output_type": "execute_result",
          "data": {
            "text/plain": [
              "1.0"
            ]
          },
          "metadata": {},
          "execution_count": 9
        }
      ]
    },
    {
      "cell_type": "code",
      "source": [],
      "metadata": {
        "id": "XQ4qabMPMr-H"
      },
      "execution_count": null,
      "outputs": []
    }
  ]
}